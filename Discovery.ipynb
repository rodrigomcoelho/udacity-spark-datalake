{
 "cells": [
  {
   "cell_type": "code",
   "execution_count": 317,
   "metadata": {
    "editable": true
   },
   "outputs": [],
   "source": [
    "import configparser\n",
    "from datetime import datetime\n",
    "import os\n",
    "from pyspark.sql import SparkSession\n",
    "from pyspark.sql.functions import udf, col, first, asc, desc, monotonically_increasing_id\n",
    "from pyspark.sql.functions import year, month, dayofmonth, hour, weekofyear, date_format\n",
    "from pyspark.sql.types import StructType,StructField\n",
    "from pyspark.sql.types import StringType, IntegerType, LongType, DoubleType\n",
    "from pyspark.sql.types import TimestampType, DateType"
   ]
  },
  {
   "cell_type": "code",
   "execution_count": 74,
   "metadata": {
    "editable": true
   },
   "outputs": [],
   "source": [
    "config = configparser.ConfigParser()\n",
    "config.read('dl.cfg')\n",
    "\n",
    "os.environ['AWS_ACCESS_KEY_ID']=config['AWS']['AWS_ACCESS_KEY_ID']\n",
    "os.environ['AWS_SECRET_ACCESS_KEY']=config['AWS']['AWS_SECRET_ACCESS_KEY']"
   ]
  },
  {
   "cell_type": "code",
   "execution_count": 75,
   "metadata": {
    "editable": true
   },
   "outputs": [],
   "source": [
    "def unzip(pathFile, dest):\n",
    "    from zipfile import ZipFile\n",
    "    with ZipFile(pathFile, 'r') as zipRef:\n",
    "        zipRef.extractall(dest)"
   ]
  },
  {
   "cell_type": "code",
   "execution_count": 76,
   "metadata": {
    "editable": true
   },
   "outputs": [],
   "source": [
    "spark = SparkSession \\\n",
    "        .builder \\\n",
    "        .config(\"spark.jars.packages\", \"org.apache.hadoop:hadoop-aws:2.7.0\") \\\n",
    "        .getOrCreate()"
   ]
  },
  {
   "cell_type": "code",
   "execution_count": 231,
   "metadata": {
    "editable": true
   },
   "outputs": [],
   "source": [
    "from pyspark.sql.types import StructType,StructField\n",
    "from pyspark.sql.types import StringType, IntegerType, LongType, DoubleType, TimestampType\n",
    "    \n",
    "songSchema = StructType([\n",
    "    StructField('artist_id', StringType()),\n",
    "    StructField('artist_latitude', DoubleType()),\n",
    "    StructField('artist_location', StringType()),\n",
    "    StructField('artist_longitude', DoubleType()),\n",
    "    StructField('artist_name', StringType()),\n",
    "    StructField('duration', DoubleType()),\n",
    "    StructField('num_songs', IntegerType()),\n",
    "    StructField('song_id', StringType()),\n",
    "    StructField('title', StringType()),\n",
    "    StructField('year', IntegerType())\n",
    "])"
   ]
  },
  {
   "cell_type": "code",
   "execution_count": 19,
   "metadata": {
    "editable": true
   },
   "outputs": [],
   "source": [
    "unzip('data/song-data.zip', 'data')"
   ]
  },
  {
   "cell_type": "code",
   "execution_count": 104,
   "metadata": {
    "editable": true
   },
   "outputs": [
    {
     "name": "stdout",
     "output_type": "stream",
     "text": [
      "root\n",
      " |-- artist_id: string (nullable = true)\n",
      " |-- artist_latitude: double (nullable = true)\n",
      " |-- artist_location: string (nullable = true)\n",
      " |-- artist_longitude: double (nullable = true)\n",
      " |-- artist_name: string (nullable = true)\n",
      " |-- duration: double (nullable = true)\n",
      " |-- num_songs: integer (nullable = true)\n",
      " |-- song_id: string (nullable = true)\n",
      " |-- title: string (nullable = true)\n",
      " |-- year: integer (nullable = true)\n",
      "\n"
     ]
    }
   ],
   "source": [
    "song_data = 'data/song_data/*/*/*/*.json'\n",
    "dfSong = spark.read.json(song_data, schema=songSchema) #     .option('mergeSchema', 'true') \\\n",
    "\n",
    "dfSong.printSchema()"
   ]
  },
  {
   "cell_type": "code",
   "execution_count": 105,
   "metadata": {
    "editable": true
   },
   "outputs": [
    {
     "data": {
      "text/plain": [
       "71"
      ]
     },
     "execution_count": 105,
     "metadata": {},
     "output_type": "execute_result"
    }
   ],
   "source": [
    "dfSong.count()"
   ]
  },
  {
   "cell_type": "code",
   "execution_count": 59,
   "metadata": {
    "editable": true
   },
   "outputs": [],
   "source": [
    "songTable = df.dropna(how='any', subset=['artist_id', 'song_id']) \\\n",
    "            .select(['song_id', 'title', 'artist_id', 'year', 'duration'])\\\n",
    "            .dropDuplicates()"
   ]
  },
  {
   "cell_type": "code",
   "execution_count": 277,
   "metadata": {
    "editable": true
   },
   "outputs": [],
   "source": [
    "songTable.write.mode('overwrite') \\\n",
    "        .partitionBy('year', 'artist_id') \\\n",
    "        .parquet('songs.parquet')"
   ]
  },
  {
   "cell_type": "code",
   "execution_count": 65,
   "metadata": {
    "editable": true
   },
   "outputs": [],
   "source": [
    "artistTable = df.dropna(how='any', subset=['artist_id']) \\\n",
    "            .select(col('artist_id'),\n",
    "                    col('artist_name').alias('name'),\n",
    "                    col('artist_location').alias('location'),\n",
    "                    col('artist_latitude').alias('lattitude'),\n",
    "                    col('artist_longitude').alias('longitude'))\\\n",
    "            .dropDuplicates()"
   ]
  },
  {
   "cell_type": "code",
   "execution_count": 285,
   "metadata": {
    "editable": true
   },
   "outputs": [],
   "source": [
    "artistTable.write.mode('overwrite') \\\n",
    "        .parquet('artists.parquet')"
   ]
  },
  {
   "cell_type": "code",
   "execution_count": 68,
   "metadata": {
    "editable": true
   },
   "outputs": [
    {
     "data": {
      "text/html": [
       "<div>\n",
       "<style scoped>\n",
       "    .dataframe tbody tr th:only-of-type {\n",
       "        vertical-align: middle;\n",
       "    }\n",
       "\n",
       "    .dataframe tbody tr th {\n",
       "        vertical-align: top;\n",
       "    }\n",
       "\n",
       "    .dataframe thead th {\n",
       "        text-align: right;\n",
       "    }\n",
       "</style>\n",
       "<table border=\"1\" class=\"dataframe\">\n",
       "  <thead>\n",
       "    <tr style=\"text-align: right;\">\n",
       "      <th></th>\n",
       "      <th>artist_id</th>\n",
       "      <th>name</th>\n",
       "      <th>location</th>\n",
       "      <th>lattitude</th>\n",
       "      <th>longitude</th>\n",
       "    </tr>\n",
       "  </thead>\n",
       "  <tbody>\n",
       "    <tr>\n",
       "      <th>0</th>\n",
       "      <td>ARPFHN61187FB575F6</td>\n",
       "      <td>Lupe Fiasco</td>\n",
       "      <td>Chicago, IL</td>\n",
       "      <td>41.88415</td>\n",
       "      <td>-87.63241</td>\n",
       "    </tr>\n",
       "    <tr>\n",
       "      <th>1</th>\n",
       "      <td>AR3JMC51187B9AE49D</td>\n",
       "      <td>Backstreet Boys</td>\n",
       "      <td>Orlando, FL</td>\n",
       "      <td>28.53823</td>\n",
       "      <td>-81.37739</td>\n",
       "    </tr>\n",
       "    <tr>\n",
       "      <th>2</th>\n",
       "      <td>ARXR32B1187FB57099</td>\n",
       "      <td>Gob</td>\n",
       "      <td></td>\n",
       "      <td>NaN</td>\n",
       "      <td>NaN</td>\n",
       "    </tr>\n",
       "    <tr>\n",
       "      <th>3</th>\n",
       "      <td>AROUOZZ1187B9ABE51</td>\n",
       "      <td>Willie Bobo</td>\n",
       "      <td>New York, NY [Spanish Harlem]</td>\n",
       "      <td>40.79195</td>\n",
       "      <td>-73.94512</td>\n",
       "    </tr>\n",
       "    <tr>\n",
       "      <th>4</th>\n",
       "      <td>AROGWRA122988FEE45</td>\n",
       "      <td>Christos Dantis</td>\n",
       "      <td></td>\n",
       "      <td>NaN</td>\n",
       "      <td>NaN</td>\n",
       "    </tr>\n",
       "    <tr>\n",
       "      <th>5</th>\n",
       "      <td>ARAJPHH1187FB5566A</td>\n",
       "      <td>The Shangri-Las</td>\n",
       "      <td>Queens, NY</td>\n",
       "      <td>40.70380</td>\n",
       "      <td>-73.83168</td>\n",
       "    </tr>\n",
       "    <tr>\n",
       "      <th>6</th>\n",
       "      <td>AREDL271187FB40F44</td>\n",
       "      <td>Soul Mekanik</td>\n",
       "      <td></td>\n",
       "      <td>NaN</td>\n",
       "      <td>NaN</td>\n",
       "    </tr>\n",
       "    <tr>\n",
       "      <th>7</th>\n",
       "      <td>ARBGXIG122988F409D</td>\n",
       "      <td>Steel Rain</td>\n",
       "      <td>California - SF</td>\n",
       "      <td>37.77916</td>\n",
       "      <td>-122.42005</td>\n",
       "    </tr>\n",
       "    <tr>\n",
       "      <th>8</th>\n",
       "      <td>ARGSAFR1269FB35070</td>\n",
       "      <td>Blingtones</td>\n",
       "      <td></td>\n",
       "      <td>NaN</td>\n",
       "      <td>NaN</td>\n",
       "    </tr>\n",
       "    <tr>\n",
       "      <th>9</th>\n",
       "      <td>ARD842G1187B997376</td>\n",
       "      <td>Blue Rodeo</td>\n",
       "      <td>Toronto, Ontario, Canada</td>\n",
       "      <td>43.64856</td>\n",
       "      <td>-79.38533</td>\n",
       "    </tr>\n",
       "  </tbody>\n",
       "</table>\n",
       "</div>"
      ],
      "text/plain": [
       "            artist_id             name                       location  \\\n",
       "0  ARPFHN61187FB575F6      Lupe Fiasco                    Chicago, IL   \n",
       "1  AR3JMC51187B9AE49D  Backstreet Boys                    Orlando, FL   \n",
       "2  ARXR32B1187FB57099              Gob                                  \n",
       "3  AROUOZZ1187B9ABE51      Willie Bobo  New York, NY [Spanish Harlem]   \n",
       "4  AROGWRA122988FEE45  Christos Dantis                                  \n",
       "5  ARAJPHH1187FB5566A  The Shangri-Las                     Queens, NY   \n",
       "6  AREDL271187FB40F44     Soul Mekanik                                  \n",
       "7  ARBGXIG122988F409D       Steel Rain                California - SF   \n",
       "8  ARGSAFR1269FB35070       Blingtones                                  \n",
       "9  ARD842G1187B997376       Blue Rodeo       Toronto, Ontario, Canada   \n",
       "\n",
       "   lattitude  longitude  \n",
       "0   41.88415  -87.63241  \n",
       "1   28.53823  -81.37739  \n",
       "2        NaN        NaN  \n",
       "3   40.79195  -73.94512  \n",
       "4        NaN        NaN  \n",
       "5   40.70380  -73.83168  \n",
       "6        NaN        NaN  \n",
       "7   37.77916 -122.42005  \n",
       "8        NaN        NaN  \n",
       "9   43.64856  -79.38533  "
      ]
     },
     "execution_count": 68,
     "metadata": {},
     "output_type": "execute_result"
    }
   ],
   "source": [
    "artistTable.limit(10).toPandas()"
   ]
  },
  {
   "cell_type": "code",
   "execution_count": 70,
   "metadata": {
    "editable": true
   },
   "outputs": [],
   "source": [
    "unzip('data/log-data.zip', 'data/log_data')"
   ]
  },
  {
   "cell_type": "code",
   "execution_count": 140,
   "metadata": {
    "editable": true
   },
   "outputs": [],
   "source": [
    "logSchema = StructType([\n",
    "    StructField('artist', StringType()),\n",
    "    StructField('auth', StringType()),\n",
    "    StructField('firstName', StringType()),\n",
    "    StructField('gender', StringType()),\n",
    "    StructField('itemInSession', LongType()),\n",
    "    StructField('lastName', StringType()),\n",
    "    StructField('length', DoubleType()),\n",
    "    StructField('level', StringType()),\n",
    "    StructField('location', StringType()),\n",
    "    StructField('method', StringType()),\n",
    "    StructField('page', StringType()),\n",
    "    StructField('registration', DoubleType()),\n",
    "    StructField('sessionId', LongType()),\n",
    "    StructField('song', StringType()),\n",
    "    StructField('status', IntegerType()),\n",
    "    StructField('ts', LongType()),\n",
    "    StructField('userAgent', StringType()),\n",
    "    StructField('userId', StringType())\n",
    "])"
   ]
  },
  {
   "cell_type": "code",
   "execution_count": 172,
   "metadata": {
    "editable": true
   },
   "outputs": [],
   "source": [
    "log_data = 'data/log_data/*.json'\n",
    "df = spark.read.json(log_data, schema=logSchema)"
   ]
  },
  {
   "cell_type": "code",
   "execution_count": 173,
   "metadata": {
    "editable": true
   },
   "outputs": [
    {
     "name": "stdout",
     "output_type": "stream",
     "text": [
      "root\n",
      " |-- artist: string (nullable = true)\n",
      " |-- auth: string (nullable = true)\n",
      " |-- firstName: string (nullable = true)\n",
      " |-- gender: string (nullable = true)\n",
      " |-- itemInSession: long (nullable = true)\n",
      " |-- lastName: string (nullable = true)\n",
      " |-- length: double (nullable = true)\n",
      " |-- level: string (nullable = true)\n",
      " |-- location: string (nullable = true)\n",
      " |-- method: string (nullable = true)\n",
      " |-- page: string (nullable = true)\n",
      " |-- registration: double (nullable = true)\n",
      " |-- sessionId: long (nullable = true)\n",
      " |-- song: string (nullable = true)\n",
      " |-- status: integer (nullable = true)\n",
      " |-- ts: long (nullable = true)\n",
      " |-- userAgent: string (nullable = true)\n",
      " |-- userId: string (nullable = true)\n",
      "\n"
     ]
    }
   ],
   "source": [
    "df.printSchema()"
   ]
  },
  {
   "cell_type": "code",
   "execution_count": 177,
   "metadata": {
    "editable": true
   },
   "outputs": [],
   "source": [
    "df = df.where(df.page == 'NextSong')\n",
    "df = df.withColumn('userId', col('userId').cast(IntegerType()))"
   ]
  },
  {
   "cell_type": "code",
   "execution_count": 212,
   "metadata": {
    "editable": true
   },
   "outputs": [],
   "source": [
    "userTable = df.select(col('userId').alias('user_id'), \n",
    "                      col('firstName').alias('first_name'), \n",
    "                      col('lastName').alias('last_name'),\n",
    "                      col('gender'),\n",
    "                      col('level')) \\\n",
    "                .dropDuplicates()"
   ]
  },
  {
   "cell_type": "code",
   "execution_count": 219,
   "metadata": {
    "editable": true
   },
   "outputs": [],
   "source": [
    "userTable = df.groupBy(col('userId').alias('user_id')) \\\n",
    "                .agg(first('firstName').alias('first_name'),\n",
    "                     first('lastName').alias('last_name'),\n",
    "                     first('gender').alias('gender'),\n",
    "                     first('level').alias('level'))"
   ]
  },
  {
   "cell_type": "code",
   "execution_count": 220,
   "metadata": {
    "editable": true
   },
   "outputs": [
    {
     "name": "stdout",
     "output_type": "stream",
     "text": [
      "+-------+-----+\n",
      "|user_id|count|\n",
      "+-------+-----+\n",
      "|     85|    1|\n",
      "|     65|    1|\n",
      "|     53|    1|\n",
      "|     78|    1|\n",
      "|     34|    1|\n",
      "|    101|    1|\n",
      "|     81|    1|\n",
      "|     28|    1|\n",
      "|     76|    1|\n",
      "|     26|    1|\n",
      "|     27|    1|\n",
      "|     44|    1|\n",
      "|     12|    1|\n",
      "|     91|    1|\n",
      "|     22|    1|\n",
      "|     47|    1|\n",
      "|     52|    1|\n",
      "|     13|    1|\n",
      "|     16|    1|\n",
      "|     86|    1|\n",
      "+-------+-----+\n",
      "only showing top 20 rows\n",
      "\n",
      "+-------+----------+---------+------+-----+\n",
      "|user_id|first_name|last_name|gender|level|\n",
      "+-------+----------+---------+------+-----+\n",
      "|     88|  Mohammad|Rodriguez|     M| free|\n",
      "+-------+----------+---------+------+-----+\n",
      "\n"
     ]
    }
   ],
   "source": [
    "userTable.groupby(userTable.user_id).count().orderBy(desc('count')).show()\n",
    "userTable.where(userTable.user_id == 88).show()\n",
    "#userTable.count()"
   ]
  },
  {
   "cell_type": "code",
   "execution_count": 260,
   "metadata": {
    "editable": true
   },
   "outputs": [],
   "source": [
    "get_timestamp = udf(lambda x: datetime.fromtimestamp(x/1000.0), TimestampType())"
   ]
  },
  {
   "cell_type": "code",
   "execution_count": 262,
   "metadata": {
    "editable": true
   },
   "outputs": [],
   "source": [
    "df = df.withColumn('timestamp', get_timestamp('ts'))"
   ]
  },
  {
   "cell_type": "code",
   "execution_count": 266,
   "metadata": {
    "editable": true
   },
   "outputs": [],
   "source": [
    "get_datetime = udf(lambda x: datetime.fromtimestamp(x/1000.0), DateType())"
   ]
  },
  {
   "cell_type": "code",
   "execution_count": 267,
   "metadata": {
    "editable": true
   },
   "outputs": [],
   "source": [
    "df = df.withColumn('datetime', get_datetime(df.ts))"
   ]
  },
  {
   "cell_type": "code",
   "execution_count": 268,
   "metadata": {
    "editable": true
   },
   "outputs": [
    {
     "data": {
      "text/html": [
       "<div>\n",
       "<style scoped>\n",
       "    .dataframe tbody tr th:only-of-type {\n",
       "        vertical-align: middle;\n",
       "    }\n",
       "\n",
       "    .dataframe tbody tr th {\n",
       "        vertical-align: top;\n",
       "    }\n",
       "\n",
       "    .dataframe thead th {\n",
       "        text-align: right;\n",
       "    }\n",
       "</style>\n",
       "<table border=\"1\" class=\"dataframe\">\n",
       "  <thead>\n",
       "    <tr style=\"text-align: right;\">\n",
       "      <th></th>\n",
       "      <th>ts</th>\n",
       "      <th>timestamp</th>\n",
       "      <th>datetime</th>\n",
       "      <th>userId</th>\n",
       "      <th>artist</th>\n",
       "      <th>song</th>\n",
       "    </tr>\n",
       "  </thead>\n",
       "  <tbody>\n",
       "    <tr>\n",
       "      <th>0</th>\n",
       "      <td>1542241826796</td>\n",
       "      <td>2018-11-15 00:30:26.796</td>\n",
       "      <td>2018-11-15</td>\n",
       "      <td>26</td>\n",
       "      <td>Harmonia</td>\n",
       "      <td>Sehr kosmisch</td>\n",
       "    </tr>\n",
       "    <tr>\n",
       "      <th>1</th>\n",
       "      <td>1542242481796</td>\n",
       "      <td>2018-11-15 00:41:21.796</td>\n",
       "      <td>2018-11-15</td>\n",
       "      <td>26</td>\n",
       "      <td>The Prodigy</td>\n",
       "      <td>The Big Gundown</td>\n",
       "    </tr>\n",
       "    <tr>\n",
       "      <th>2</th>\n",
       "      <td>1542242741796</td>\n",
       "      <td>2018-11-15 00:45:41.796</td>\n",
       "      <td>2018-11-15</td>\n",
       "      <td>26</td>\n",
       "      <td>Train</td>\n",
       "      <td>Marry Me</td>\n",
       "    </tr>\n",
       "    <tr>\n",
       "      <th>3</th>\n",
       "      <td>1542253449796</td>\n",
       "      <td>2018-11-15 03:44:09.796</td>\n",
       "      <td>2018-11-15</td>\n",
       "      <td>61</td>\n",
       "      <td>Sony Wonder</td>\n",
       "      <td>Blackbird</td>\n",
       "    </tr>\n",
       "    <tr>\n",
       "      <th>4</th>\n",
       "      <td>1542260935796</td>\n",
       "      <td>2018-11-15 05:48:55.796</td>\n",
       "      <td>2018-11-15</td>\n",
       "      <td>80</td>\n",
       "      <td>Van Halen</td>\n",
       "      <td>Best Of Both Worlds (Remastered Album Version)</td>\n",
       "    </tr>\n",
       "    <tr>\n",
       "      <th>5</th>\n",
       "      <td>1542261224796</td>\n",
       "      <td>2018-11-15 05:53:44.796</td>\n",
       "      <td>2018-11-15</td>\n",
       "      <td>80</td>\n",
       "      <td>Magic Sam</td>\n",
       "      <td>Call Me If You Need Me</td>\n",
       "    </tr>\n",
       "    <tr>\n",
       "      <th>6</th>\n",
       "      <td>1542261356796</td>\n",
       "      <td>2018-11-15 05:55:56.796</td>\n",
       "      <td>2018-11-15</td>\n",
       "      <td>80</td>\n",
       "      <td>Edward Sharpe &amp; The Magnetic Zeros</td>\n",
       "      <td>Home</td>\n",
       "    </tr>\n",
       "    <tr>\n",
       "      <th>7</th>\n",
       "      <td>1542261662796</td>\n",
       "      <td>2018-11-15 06:01:02.796</td>\n",
       "      <td>2018-11-15</td>\n",
       "      <td>80</td>\n",
       "      <td>Usher featuring will.i.am</td>\n",
       "      <td>OMG</td>\n",
       "    </tr>\n",
       "    <tr>\n",
       "      <th>8</th>\n",
       "      <td>1542262057796</td>\n",
       "      <td>2018-11-15 06:07:37.796</td>\n",
       "      <td>2018-11-15</td>\n",
       "      <td>80</td>\n",
       "      <td>Helen Reddy</td>\n",
       "      <td>Candle On The Water</td>\n",
       "    </tr>\n",
       "    <tr>\n",
       "      <th>9</th>\n",
       "      <td>1542262233796</td>\n",
       "      <td>2018-11-15 06:10:33.796</td>\n",
       "      <td>2018-11-15</td>\n",
       "      <td>80</td>\n",
       "      <td>Taylor Swift</td>\n",
       "      <td>Our Song</td>\n",
       "    </tr>\n",
       "    <tr>\n",
       "      <th>10</th>\n",
       "      <td>1542262434796</td>\n",
       "      <td>2018-11-15 06:13:54.796</td>\n",
       "      <td>2018-11-15</td>\n",
       "      <td>80</td>\n",
       "      <td>Sean Paul</td>\n",
       "      <td>Baby Boy [feat. Beyonce]</td>\n",
       "    </tr>\n",
       "    <tr>\n",
       "      <th>11</th>\n",
       "      <td>1542262456796</td>\n",
       "      <td>2018-11-15 06:14:16.796</td>\n",
       "      <td>2018-11-15</td>\n",
       "      <td>15</td>\n",
       "      <td>Soundgarden</td>\n",
       "      <td>Black Hole Sun</td>\n",
       "    </tr>\n",
       "    <tr>\n",
       "      <th>12</th>\n",
       "      <td>1542262679796</td>\n",
       "      <td>2018-11-15 06:17:59.796</td>\n",
       "      <td>2018-11-15</td>\n",
       "      <td>80</td>\n",
       "      <td>The Killers</td>\n",
       "      <td>Human</td>\n",
       "    </tr>\n",
       "    <tr>\n",
       "      <th>13</th>\n",
       "      <td>1542262728796</td>\n",
       "      <td>2018-11-15 06:18:48.796</td>\n",
       "      <td>2018-11-15</td>\n",
       "      <td>15</td>\n",
       "      <td>Amy Winehouse</td>\n",
       "      <td>Addicted</td>\n",
       "    </tr>\n",
       "    <tr>\n",
       "      <th>14</th>\n",
       "      <td>1542262893796</td>\n",
       "      <td>2018-11-15 06:21:33.796</td>\n",
       "      <td>2018-11-15</td>\n",
       "      <td>15</td>\n",
       "      <td>Steve Anderson</td>\n",
       "      <td>Air</td>\n",
       "    </tr>\n",
       "    <tr>\n",
       "      <th>15</th>\n",
       "      <td>1542263158796</td>\n",
       "      <td>2018-11-15 06:25:58.796</td>\n",
       "      <td>2018-11-15</td>\n",
       "      <td>15</td>\n",
       "      <td>Rob Zombie</td>\n",
       "      <td>Superbeast</td>\n",
       "    </tr>\n",
       "    <tr>\n",
       "      <th>16</th>\n",
       "      <td>1542263378796</td>\n",
       "      <td>2018-11-15 06:29:38.796</td>\n",
       "      <td>2018-11-15</td>\n",
       "      <td>15</td>\n",
       "      <td>Deadmau5 &amp; Kaskade</td>\n",
       "      <td>I Remember</td>\n",
       "    </tr>\n",
       "    <tr>\n",
       "      <th>17</th>\n",
       "      <td>1542265716796</td>\n",
       "      <td>2018-11-15 07:08:36.796</td>\n",
       "      <td>2018-11-15</td>\n",
       "      <td>26</td>\n",
       "      <td>Shania Twain</td>\n",
       "      <td>Don't Be Stupid (You Know I Love You)</td>\n",
       "    </tr>\n",
       "    <tr>\n",
       "      <th>18</th>\n",
       "      <td>1542265929796</td>\n",
       "      <td>2018-11-15 07:12:09.796</td>\n",
       "      <td>2018-11-15</td>\n",
       "      <td>26</td>\n",
       "      <td>Los Campesinos</td>\n",
       "      <td>We throw parties_ you throw knives</td>\n",
       "    </tr>\n",
       "    <tr>\n",
       "      <th>19</th>\n",
       "      <td>1542266927796</td>\n",
       "      <td>2018-11-15 07:28:47.796</td>\n",
       "      <td>2018-11-15</td>\n",
       "      <td>49</td>\n",
       "      <td>Ill Nino</td>\n",
       "      <td>How Can I Live (Spanish version) (Album Version)</td>\n",
       "    </tr>\n",
       "  </tbody>\n",
       "</table>\n",
       "</div>"
      ],
      "text/plain": [
       "               ts               timestamp    datetime  userId  \\\n",
       "0   1542241826796 2018-11-15 00:30:26.796  2018-11-15      26   \n",
       "1   1542242481796 2018-11-15 00:41:21.796  2018-11-15      26   \n",
       "2   1542242741796 2018-11-15 00:45:41.796  2018-11-15      26   \n",
       "3   1542253449796 2018-11-15 03:44:09.796  2018-11-15      61   \n",
       "4   1542260935796 2018-11-15 05:48:55.796  2018-11-15      80   \n",
       "5   1542261224796 2018-11-15 05:53:44.796  2018-11-15      80   \n",
       "6   1542261356796 2018-11-15 05:55:56.796  2018-11-15      80   \n",
       "7   1542261662796 2018-11-15 06:01:02.796  2018-11-15      80   \n",
       "8   1542262057796 2018-11-15 06:07:37.796  2018-11-15      80   \n",
       "9   1542262233796 2018-11-15 06:10:33.796  2018-11-15      80   \n",
       "10  1542262434796 2018-11-15 06:13:54.796  2018-11-15      80   \n",
       "11  1542262456796 2018-11-15 06:14:16.796  2018-11-15      15   \n",
       "12  1542262679796 2018-11-15 06:17:59.796  2018-11-15      80   \n",
       "13  1542262728796 2018-11-15 06:18:48.796  2018-11-15      15   \n",
       "14  1542262893796 2018-11-15 06:21:33.796  2018-11-15      15   \n",
       "15  1542263158796 2018-11-15 06:25:58.796  2018-11-15      15   \n",
       "16  1542263378796 2018-11-15 06:29:38.796  2018-11-15      15   \n",
       "17  1542265716796 2018-11-15 07:08:36.796  2018-11-15      26   \n",
       "18  1542265929796 2018-11-15 07:12:09.796  2018-11-15      26   \n",
       "19  1542266927796 2018-11-15 07:28:47.796  2018-11-15      49   \n",
       "\n",
       "                                artist  \\\n",
       "0                             Harmonia   \n",
       "1                          The Prodigy   \n",
       "2                                Train   \n",
       "3                          Sony Wonder   \n",
       "4                            Van Halen   \n",
       "5                            Magic Sam   \n",
       "6   Edward Sharpe & The Magnetic Zeros   \n",
       "7            Usher featuring will.i.am   \n",
       "8                          Helen Reddy   \n",
       "9                         Taylor Swift   \n",
       "10                           Sean Paul   \n",
       "11                         Soundgarden   \n",
       "12                         The Killers   \n",
       "13                       Amy Winehouse   \n",
       "14                      Steve Anderson   \n",
       "15                          Rob Zombie   \n",
       "16                  Deadmau5 & Kaskade   \n",
       "17                        Shania Twain   \n",
       "18                      Los Campesinos   \n",
       "19                            Ill Nino   \n",
       "\n",
       "                                                song  \n",
       "0                                      Sehr kosmisch  \n",
       "1                                    The Big Gundown  \n",
       "2                                           Marry Me  \n",
       "3                                          Blackbird  \n",
       "4     Best Of Both Worlds (Remastered Album Version)  \n",
       "5                             Call Me If You Need Me  \n",
       "6                                               Home  \n",
       "7                                                OMG  \n",
       "8                                Candle On The Water  \n",
       "9                                           Our Song  \n",
       "10                          Baby Boy [feat. Beyonce]  \n",
       "11                                    Black Hole Sun  \n",
       "12                                             Human  \n",
       "13                                          Addicted  \n",
       "14                                               Air  \n",
       "15                                        Superbeast  \n",
       "16                                        I Remember  \n",
       "17             Don't Be Stupid (You Know I Love You)  \n",
       "18                We throw parties_ you throw knives  \n",
       "19  How Can I Live (Spanish version) (Album Version)  "
      ]
     },
     "execution_count": 268,
     "metadata": {},
     "output_type": "execute_result"
    }
   ],
   "source": [
    "df.select('ts', 'timestamp', 'datetime', 'userId', 'artist', 'song').limit(20).toPandas()"
   ]
  },
  {
   "cell_type": "code",
   "execution_count": 265,
   "metadata": {
    "editable": true
   },
   "outputs": [
    {
     "name": "stdout",
     "output_type": "stream",
     "text": [
      "root\n",
      " |-- artist: string (nullable = true)\n",
      " |-- auth: string (nullable = true)\n",
      " |-- firstName: string (nullable = true)\n",
      " |-- gender: string (nullable = true)\n",
      " |-- itemInSession: long (nullable = true)\n",
      " |-- lastName: string (nullable = true)\n",
      " |-- length: double (nullable = true)\n",
      " |-- level: string (nullable = true)\n",
      " |-- location: string (nullable = true)\n",
      " |-- method: string (nullable = true)\n",
      " |-- page: string (nullable = true)\n",
      " |-- registration: double (nullable = true)\n",
      " |-- sessionId: long (nullable = true)\n",
      " |-- song: string (nullable = true)\n",
      " |-- status: integer (nullable = true)\n",
      " |-- ts: long (nullable = true)\n",
      " |-- userAgent: string (nullable = true)\n",
      " |-- userId: integer (nullable = true)\n",
      " |-- timestamp: timestamp (nullable = true)\n",
      "\n"
     ]
    }
   ],
   "source": [
    "df.printSchema()"
   ]
  },
  {
   "cell_type": "code",
   "execution_count": 273,
   "metadata": {
    "editable": true
   },
   "outputs": [],
   "source": [
    "timeDf = df.select(date_format('timestamp', 'yyyy-MM-dd HH:mm:ss')\\\n",
    "                       .alias('start_time')\\\n",
    "                       .cast(TimestampType()),\n",
    "                    hour('timestamp').alias('hour'),\n",
    "                    dayofmonth('timestamp').alias('day'),\n",
    "                    weekofyear('timestamp').alias('week'),\n",
    "                    month('timestamp').alias('month'),\n",
    "                    year('timestamp').alias('year'))\\\n",
    "                   .dropDuplicates()\n",
    "\n",
    "# year, month,"
   ]
  },
  {
   "cell_type": "code",
   "execution_count": 328,
   "metadata": {
    "editable": true
   },
   "outputs": [],
   "source": [
    "song_df = spark.read.parquet('songs.parquet')\n",
    "artist_df = spark.read.parquet('artists.parquet')\n",
    "joined_df = song_df.join(artist_df,\n",
    "                             song_df.artist_id == artist_df.artist_id)\\\n",
    "                        .drop(song_df.artist_id)\\\n",
    "                        .select('song_id', 'title', 'name', 'duration', 'artist_id')"
   ]
  },
  {
   "cell_type": "code",
   "execution_count": 312,
   "metadata": {
    "editable": true
   },
   "outputs": [
    {
     "name": "stdout",
     "output_type": "stream",
     "text": [
      "+------------------+--------------------+--------------------+---------+------------------+\n",
      "|           song_id|               title|                name| duration|         artist_id|\n",
      "+------------------+--------------------+--------------------+---------+------------------+\n",
      "|SOAOIBZ12AB01815BE|I Hold Your Hand ...|            Tiny Tim| 43.36281|ARPBNLO1187FB3D52F|\n",
      "|SONYPOM12A8C13B2D7|I Think My Wife I...|          Tim Wilson|186.48771|ARDNS031187B9924F0|\n",
      "|SODREIN12A58A7F2E5|A Whiter Shade Of...|         King Curtis|326.00771|ARLTWXK1187FB5A3F8|\n",
      "|SOYMRWW12A6D4FAB14|The Moon And I (O...|Jeff And Sheri Ea...| 267.7024|ARKFYS91187B98E58F|\n",
      "|SOWQTQZ12A58A7B63E|Streets On Fire (...|         Lupe Fiasco|279.97995|ARPFHN61187FB575F6|\n",
      "|SOUDSGM12AC9618304|Insatiable (Instr...|                 Clp|266.39628|ARNTLGG11E2835DDB9|\n",
      "|SOPEGZN12AB0181B3D|Get Your Head Stu...|        Soul Mekanik| 45.66159|AREDL271187FB40F44|\n",
      "|SOBAYLL12A8C138AF9|Sono andati? Fing...|Montserrat Caball...|511.16363|ARDR4AC1187FB371A1|\n",
      "|SOOLYAZ12A6701F4A6|Laws Patrolling (...|Mike Jones (Featu...|173.66159|AREBBGV1187FB523D2|\n",
      "|SOBBUGU12A8C13E95D|Setting Fire to S...|The Dillinger Esc...|207.77751|ARMAC4T1187FB3FA4C|\n",
      "|SOBLGCN12AB0183212|James (Hold The L...|        SUE THOMPSON|124.86485|AR47JEX1187B995D81|\n",
      "|SOFFKZS12AB017F194|A Higher Place (A...|           Tom Petty|236.17261|ARBEBBY1187B9B43DB|\n",
      "|SOBBXLX12A58A79DDA|Erica (2005 Digit...|       Eddie Calvert|138.63138|AREDBBQ1187B98AFF5|\n",
      "|SOBKWDJ12A8C13B2F3|Wild Rose (Back 2...|      Bombay Rockers|230.71302|AR36F9J1187FB406F1|\n",
      "|SONWXQJ12A8C134D94|The Ballad Of Sle...|   Sophie B. Hawkins|  305.162|ARNF6401187FB57032|\n",
      "|SOGNCJP12A58A80271|Do You Finally Ne...|       Terry Callier|342.56934|ARB29H41187B98F0EF|\n",
      "|SOTCKKY12AB018A141|Sonnerie lalaleul...|          Blingtones| 29.54404|ARGSAFR1269FB35070|\n",
      "|SOFNOQK12AB01840FC|Kutt Free (DJ Vol...|                Jinx|407.37914|ARNNKDK1187B98BBD5|\n",
      "|SOGXHEG12AB018653E|It Makes No Diffe...|    Billie Jo Spears|133.32853|AR0RCMP1187FB3F427|\n",
      "|SOWTBJW12AC468AC6E|Broken-Down Merry...|        Jimmy Wakely|151.84934|ARQGYP71187FB44566|\n",
      "+------------------+--------------------+--------------------+---------+------------------+\n",
      "only showing top 20 rows\n",
      "\n"
     ]
    }
   ],
   "source": [
    "joined_df.show()"
   ]
  },
  {
   "cell_type": "code",
   "execution_count": 340,
   "metadata": {
    "editable": true
   },
   "outputs": [],
   "source": [
    "songplay_df = df.join(joined_df, (df.song == joined_df.title) & \n",
    "                                 (df.artist == joined_df.name) &\n",
    "                                 (df.length == joined_df.duration),\n",
    "                     how = 'left')\n",
    "songplay_df = songplay_df.withColumn('songplay_id', monotonically_increasing_id())"
   ]
  },
  {
   "cell_type": "code",
   "execution_count": 333,
   "metadata": {
    "editable": true
   },
   "outputs": [],
   "source": [
    "songplay_df = songplay_df.select(col('songplay_id'),\n",
    "                                date_format('timestamp', 'yyyy-MM-dd HH:mm:ss')\\\n",
    "                                   .alias('start_time')\\\n",
    "                                   .cast(TimestampType()),\n",
    "                                col('userId').alias('user_id'),\n",
    "                                col('level'),\n",
    "                                col('song_id'),\n",
    "                                col('artist_id'),\n",
    "                                col('sessionId').alias('session_id'),\n",
    "                                col('location'),\n",
    "                                col('userAgent').alias('user_agent'))"
   ]
  },
  {
   "cell_type": "code",
   "execution_count": 342,
   "metadata": {
    "editable": true
   },
   "outputs": [
    {
     "name": "stdout",
     "output_type": "stream",
     "text": [
      "+-------------+--------------+------+---------+\n",
      "|  songplay_id|          song|artist| duration|\n",
      "+-------------+--------------+------+---------+\n",
      "|1589137899536|Setanta matins| Elena|269.58322|\n",
      "+-------------+--------------+------+---------+\n",
      "\n"
     ]
    }
   ],
   "source": [
    "#songplay_df.where(songplay_df.song_id.isNotNull()).show()\n",
    "songplay_df.where(songplay_df.artist == 'Elena').select('songplay_id', 'song', 'artist', 'duration').show()"
   ]
  },
  {
   "cell_type": "code",
   "execution_count": 338,
   "metadata": {
    "editable": true
   },
   "outputs": [
    {
     "name": "stdout",
     "output_type": "stream",
     "text": [
      "+------------------+-----+---------+---------+---------+\n",
      "|         artist_id| name| location|lattitude|longitude|\n",
      "+------------------+-----+---------+---------+---------+\n",
      "|AR5KOSW1187FB35FF4|Elena|Dubai UAE| 49.80388| 15.47491|\n",
      "+------------------+-----+---------+---------+---------+\n",
      "\n"
     ]
    }
   ],
   "source": [
    "artist_df.where(artist_df.artist_id == 'AR5KOSW1187FB35FF4').show()"
   ]
  },
  {
   "cell_type": "code",
   "execution_count": null,
   "metadata": {
    "editable": true
   },
   "outputs": [],
   "source": []
  },
  {
   "cell_type": "code",
   "execution_count": null,
   "metadata": {
    "editable": true
   },
   "outputs": [],
   "source": [
    "# Import SparkSession\n",
    "from pyspark.sql import SparkSession"
   ]
  },
  {
   "cell_type": "code",
   "execution_count": null,
   "metadata": {
    "editable": true
   },
   "outputs": [],
   "source": [
    "DB_HOST = 'challenge.prod.public.data.escale.com.br'\n",
    "DB_NAME = 'challenge'\n",
    "DB_PORT = '5432'\n",
    "DB_USER = 'challenge'\n",
    "DB_PASS = 'Escale@2020'\n",
    "SPARK_APP = 'Case Escale'"
   ]
  },
  {
   "cell_type": "code",
   "execution_count": null,
   "metadata": {
    "editable": true
   },
   "outputs": [],
   "source": [
    "spark = SparkSession \\\n",
    "        .builder \\\n",
    "        .appName(SPARK_APP) \\\n",
    "        .config(\"spark.jars\", \"/path_to_postgresDriver/postgresql-postgresql-42.2.19.jre7.jar\") \\\n",
    "        .getOrCreate()"
   ]
  },
  {
   "cell_type": "code",
   "execution_count": null,
   "metadata": {
    "editable": true
   },
   "outputs": [],
   "source": [
    "def tableReader(tableName):\n",
    "    global DB_HOST\n",
    "    global DB_NAME\n",
    "    global DB_PORT\n",
    "    global DB_USER\n",
    "    global DB_PASS\n",
    "    \n",
    "    tempDf = spark.read \\\n",
    "            .format(\"jdbc\") \\\n",
    "            .option(\"url\", f\"jdbc:postgresql://{DB_HOST}:{DB_PORT}/{DB_NAME}\") \\\n",
    "            .option(\"dbtable\", tableName) \\\n",
    "            .option(\"user\", DB_USER) \\\n",
    "            .option(\"password\", DB_PASS) \\\n",
    "            .option(\"driver\", \"org.postgresql.Driver\") \\\n",
    "            .load()\n",
    "    return tempDf"
   ]
  },
  {
   "cell_type": "code",
   "execution_count": null,
   "metadata": {
    "editable": true
   },
   "outputs": [],
   "source": [
    "telephonyTypesDf = tableReader('telephony_types')\n",
    "telephonyTypesDf.printSchema()"
   ]
  },
  {
   "cell_type": "code",
   "execution_count": null,
   "metadata": {
    "editable": true
   },
   "outputs": [],
   "source": [
    "#Count\n",
    "telephonyTypesDf.where(telephonyTypesDf.token.isNotNull()).groupby('token').count()"
   ]
  },
  {
   "cell_type": "code",
   "execution_count": null,
   "metadata": {
    "editable": true
   },
   "outputs": [],
   "source": [
    "attendancesDf = tableReader('attendances')\n",
    "attendancesDf.printSchema()"
   ]
  }
 ],
 "metadata": {
  "kernelspec": {
   "display_name": "Python 3",
   "language": "python",
   "name": "python3"
  },
  "language_info": {
   "codemirror_mode": {
    "name": "ipython",
    "version": 3
   },
   "file_extension": ".py",
   "mimetype": "text/x-python",
   "name": "python",
   "nbconvert_exporter": "python",
   "pygments_lexer": "ipython3",
   "version": "3.6.3"
  }
 },
 "nbformat": 4,
 "nbformat_minor": 4
}
